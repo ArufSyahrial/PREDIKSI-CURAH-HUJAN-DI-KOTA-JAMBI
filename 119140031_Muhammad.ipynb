{
  "nbformat": 4,
  "nbformat_minor": 0,
  "metadata": {
    "colab": {
      "name": "119140031_Muhammad.ipynb",
      "provenance": [],
      "collapsed_sections": []
    },
    "kernelspec": {
      "name": "python3",
      "display_name": "Python 3"
    },
    "language_info": {
      "name": "python"
    }
  },
  "cells": [
    {
      "cell_type": "markdown",
      "source": [
        "# Prediksi Curah Hujan di Kota Jambi Menggunakan Algoritma *RNN*\n",
        "\n",
        "\n",
        "\n"
      ],
      "metadata": {
        "id": "GGOYy5YRX1Hx"
      }
    },
    {
      "cell_type": "markdown",
      "source": [
        "importing libraries"
      ],
      "metadata": {
        "id": "xmtJXXhsZnN9"
      }
    },
    {
      "cell_type": "code",
      "execution_count": null,
      "metadata": {
        "id": "pgCrVwCt5wHY"
      },
      "outputs": [],
      "source": [
        "import pandas as pd\n",
        "import numpy as np\n",
        "import matplotlib.pyplot as plt\n",
        "import io"
      ]
    },
    {
      "cell_type": "markdown",
      "source": [
        "membaca file csv dan membuat kolom \"bulan\" "
      ],
      "metadata": {
        "id": "PZ46VgANfqW7"
      }
    },
    {
      "cell_type": "code",
      "source": [
        "!pip install -U -q PyDrive\n",
        " \n",
        "from pydrive.auth import GoogleAuth\n",
        "from pydrive.drive import GoogleDrive\n",
        "from google.colab import auth\n",
        "from oauth2client.client import GoogleCredentials\n",
        " \n",
        " \n",
        "# autentikasi dan membuat klien PyDrive\n",
        "auth.authenticate_user()\n",
        "gauth = GoogleAuth()\n",
        "gauth.credentials = GoogleCredentials.get_application_default()\n",
        "drive = GoogleDrive(gauth)"
      ],
      "metadata": {
        "id": "XbSIL-c8UlhA"
      },
      "execution_count": null,
      "outputs": []
    },
    {
      "cell_type": "code",
      "source": [
        "link = 'https://drive.google.com/file/d/1lDgBwtxlhY2MiackPnI5n4KnJuESGjmt/view?usp=sharing'\n",
        " \n",
        "# mengambil id file\n",
        "id = link.split(\"/\")[-2]\n",
        " \n",
        "downloaded = drive.CreateFile({'id':id})\n",
        "downloaded.GetContentFile('curah-hujan-jambi.csv') \n",
        " \n",
        "df = pd.read_csv('curah-hujan-jambi.csv', index_col = 'bulan',parse_dates = True)\n",
        "df.index.freq = 'MS'"
      ],
      "metadata": {
        "id": "OJzkX1YSW1rm"
      },
      "execution_count": null,
      "outputs": []
    },
    {
      "cell_type": "markdown",
      "source": [
        "mengambil data dari file"
      ],
      "metadata": {
        "id": "stIUWhU7ijNh"
      }
    },
    {
      "cell_type": "code",
      "source": [
        "df.head()"
      ],
      "metadata": {
        "id": "b-glRpMwnyJP",
        "colab": {
          "base_uri": "https://localhost:8080/",
          "height": 238
        },
        "outputId": "3e4de668-6b71-4bcf-9b2b-e8050fa058c8"
      },
      "execution_count": null,
      "outputs": [
        {
          "output_type": "execute_result",
          "data": {
            "text/plain": [
              "            curah hujan (mm)\n",
              "bulan                       \n",
              "2017-01-01                90\n",
              "2017-02-01               117\n",
              "2017-03-01               201\n",
              "2017-04-01               146\n",
              "2017-05-01               270"
            ],
            "text/html": [
              "\n",
              "  <div id=\"df-d84b25eb-993d-4afe-a7b8-58d9debc9b50\">\n",
              "    <div class=\"colab-df-container\">\n",
              "      <div>\n",
              "<style scoped>\n",
              "    .dataframe tbody tr th:only-of-type {\n",
              "        vertical-align: middle;\n",
              "    }\n",
              "\n",
              "    .dataframe tbody tr th {\n",
              "        vertical-align: top;\n",
              "    }\n",
              "\n",
              "    .dataframe thead th {\n",
              "        text-align: right;\n",
              "    }\n",
              "</style>\n",
              "<table border=\"1\" class=\"dataframe\">\n",
              "  <thead>\n",
              "    <tr style=\"text-align: right;\">\n",
              "      <th></th>\n",
              "      <th>curah hujan (mm)</th>\n",
              "    </tr>\n",
              "    <tr>\n",
              "      <th>bulan</th>\n",
              "      <th></th>\n",
              "    </tr>\n",
              "  </thead>\n",
              "  <tbody>\n",
              "    <tr>\n",
              "      <th>2017-01-01</th>\n",
              "      <td>90</td>\n",
              "    </tr>\n",
              "    <tr>\n",
              "      <th>2017-02-01</th>\n",
              "      <td>117</td>\n",
              "    </tr>\n",
              "    <tr>\n",
              "      <th>2017-03-01</th>\n",
              "      <td>201</td>\n",
              "    </tr>\n",
              "    <tr>\n",
              "      <th>2017-04-01</th>\n",
              "      <td>146</td>\n",
              "    </tr>\n",
              "    <tr>\n",
              "      <th>2017-05-01</th>\n",
              "      <td>270</td>\n",
              "    </tr>\n",
              "  </tbody>\n",
              "</table>\n",
              "</div>\n",
              "      <button class=\"colab-df-convert\" onclick=\"convertToInteractive('df-d84b25eb-993d-4afe-a7b8-58d9debc9b50')\"\n",
              "              title=\"Convert this dataframe to an interactive table.\"\n",
              "              style=\"display:none;\">\n",
              "        \n",
              "  <svg xmlns=\"http://www.w3.org/2000/svg\" height=\"24px\"viewBox=\"0 0 24 24\"\n",
              "       width=\"24px\">\n",
              "    <path d=\"M0 0h24v24H0V0z\" fill=\"none\"/>\n",
              "    <path d=\"M18.56 5.44l.94 2.06.94-2.06 2.06-.94-2.06-.94-.94-2.06-.94 2.06-2.06.94zm-11 1L8.5 8.5l.94-2.06 2.06-.94-2.06-.94L8.5 2.5l-.94 2.06-2.06.94zm10 10l.94 2.06.94-2.06 2.06-.94-2.06-.94-.94-2.06-.94 2.06-2.06.94z\"/><path d=\"M17.41 7.96l-1.37-1.37c-.4-.4-.92-.59-1.43-.59-.52 0-1.04.2-1.43.59L10.3 9.45l-7.72 7.72c-.78.78-.78 2.05 0 2.83L4 21.41c.39.39.9.59 1.41.59.51 0 1.02-.2 1.41-.59l7.78-7.78 2.81-2.81c.8-.78.8-2.07 0-2.86zM5.41 20L4 18.59l7.72-7.72 1.47 1.35L5.41 20z\"/>\n",
              "  </svg>\n",
              "      </button>\n",
              "      \n",
              "  <style>\n",
              "    .colab-df-container {\n",
              "      display:flex;\n",
              "      flex-wrap:wrap;\n",
              "      gap: 12px;\n",
              "    }\n",
              "\n",
              "    .colab-df-convert {\n",
              "      background-color: #E8F0FE;\n",
              "      border: none;\n",
              "      border-radius: 50%;\n",
              "      cursor: pointer;\n",
              "      display: none;\n",
              "      fill: #1967D2;\n",
              "      height: 32px;\n",
              "      padding: 0 0 0 0;\n",
              "      width: 32px;\n",
              "    }\n",
              "\n",
              "    .colab-df-convert:hover {\n",
              "      background-color: #E2EBFA;\n",
              "      box-shadow: 0px 1px 2px rgba(60, 64, 67, 0.3), 0px 1px 3px 1px rgba(60, 64, 67, 0.15);\n",
              "      fill: #174EA6;\n",
              "    }\n",
              "\n",
              "    [theme=dark] .colab-df-convert {\n",
              "      background-color: #3B4455;\n",
              "      fill: #D2E3FC;\n",
              "    }\n",
              "\n",
              "    [theme=dark] .colab-df-convert:hover {\n",
              "      background-color: #434B5C;\n",
              "      box-shadow: 0px 1px 3px 1px rgba(0, 0, 0, 0.15);\n",
              "      filter: drop-shadow(0px 1px 2px rgba(0, 0, 0, 0.3));\n",
              "      fill: #FFFFFF;\n",
              "    }\n",
              "  </style>\n",
              "\n",
              "      <script>\n",
              "        const buttonEl =\n",
              "          document.querySelector('#df-d84b25eb-993d-4afe-a7b8-58d9debc9b50 button.colab-df-convert');\n",
              "        buttonEl.style.display =\n",
              "          google.colab.kernel.accessAllowed ? 'block' : 'none';\n",
              "\n",
              "        async function convertToInteractive(key) {\n",
              "          const element = document.querySelector('#df-d84b25eb-993d-4afe-a7b8-58d9debc9b50');\n",
              "          const dataTable =\n",
              "            await google.colab.kernel.invokeFunction('convertToInteractive',\n",
              "                                                     [key], {});\n",
              "          if (!dataTable) return;\n",
              "\n",
              "          const docLinkHtml = 'Like what you see? Visit the ' +\n",
              "            '<a target=\"_blank\" href=https://colab.research.google.com/notebooks/data_table.ipynb>data table notebook</a>'\n",
              "            + ' to learn more about interactive tables.';\n",
              "          element.innerHTML = '';\n",
              "          dataTable['output_type'] = 'display_data';\n",
              "          await google.colab.output.renderOutput(dataTable, element);\n",
              "          const docLink = document.createElement('div');\n",
              "          docLink.innerHTML = docLinkHtml;\n",
              "          element.appendChild(docLink);\n",
              "        }\n",
              "      </script>\n",
              "    </div>\n",
              "  </div>\n",
              "  "
            ]
          },
          "metadata": {},
          "execution_count": 39
        }
      ]
    },
    {
      "cell_type": "markdown",
      "source": [
        "membuat plot dari data-data file"
      ],
      "metadata": {
        "id": "qoIng1W3ivg-"
      }
    },
    {
      "cell_type": "code",
      "source": [
        "df.plot(figsize = (12, 6))"
      ],
      "metadata": {
        "id": "rQTGeHqLn0pr",
        "colab": {
          "base_uri": "https://localhost:8080/",
          "height": 417
        },
        "outputId": "9a20ce9a-8922-4f6e-b9e3-628350da682a"
      },
      "execution_count": null,
      "outputs": [
        {
          "output_type": "execute_result",
          "data": {
            "text/plain": [
              "<matplotlib.axes._subplots.AxesSubplot at 0x7f3b52d295d0>"
            ]
          },
          "metadata": {},
          "execution_count": 40
        },
        {
          "output_type": "display_data",
          "data": {
            "text/plain": [
              "<Figure size 864x432 with 1 Axes>"
            ],
            "image/png": "[encoded data removed]"
          },
          "metadata": {
            "needs_background": "light"
          }
        }
      ]
    },
    {
      "cell_type": "markdown",
      "source": [
        "decompose bagian-bagian dari series waktu dan menunjukkan trend"
      ],
      "metadata": {
        "id": "LxBX_LOtjhm-"
      }
    },
    {
      "cell_type": "code",
      "source": [
        "from statsmodels.tsa.seasonal import seasonal_decompose"
      ],
      "metadata": {
        "id": "zyXe8dA9n1D2"
      },
      "execution_count": null,
      "outputs": []
    },
    {
      "cell_type": "code",
      "source": [
        "results = seasonal_decompose(df['curah hujan (mm)'])\n",
        "results.plot();"
      ],
      "metadata": {
        "colab": {
          "base_uri": "https://localhost:8080/",
          "height": 299
        },
        "id": "I5Ms0VFjqhJK",
        "outputId": "e31caed4-1ab5-409e-8520-93bb728769dd"
      },
      "execution_count": null,
      "outputs": [
        {
          "output_type": "display_data",
          "data": {
            "text/plain": [
              "<Figure size 432x288 with 4 Axes>"
            ],
            "image/png": "[encoded data removed]"
          },
          "metadata": {
            "needs_background": "light"
          }
        }
      ]
    },
    {
      "cell_type": "markdown",
      "source": [
        "mengecek ukuran dari data set"
      ],
      "metadata": {
        "id": "QLP3__3_ktUc"
      }
    },
    {
      "cell_type": "code",
      "source": [
        "len(df)"
      ],
      "metadata": {
        "colab": {
          "base_uri": "https://localhost:8080/"
        },
        "id": "CbGAqtASqtcx",
        "outputId": "0eb66c19-5eec-4cca-d9df-ec5fe7072b7e"
      },
      "execution_count": null,
      "outputs": [
        {
          "output_type": "execute_result",
          "data": {
            "text/plain": [
              "48"
            ]
          },
          "metadata": {},
          "execution_count": 43
        }
      ]
    },
    {
      "cell_type": "markdown",
      "source": [
        "mengabil 36 data untuk training dan testing"
      ],
      "metadata": {
        "id": "yzxYkqMN0QZA"
      }
    },
    {
      "cell_type": "code",
      "source": [
        "train = df.iloc[:36]\n",
        "test = df.iloc[36:]"
      ],
      "metadata": {
        "id": "zXakE1TnqyY0"
      },
      "execution_count": null,
      "outputs": []
    },
    {
      "cell_type": "markdown",
      "source": [
        "mengubah nilai menjadi skala 0 sampai 1 dari data set"
      ],
      "metadata": {
        "id": "_znJKA49lGbN"
      }
    },
    {
      "cell_type": "code",
      "source": [
        "from sklearn.preprocessing import MinMaxScaler\n",
        "scaler = MinMaxScaler()"
      ],
      "metadata": {
        "id": "Y7FnC7rZqybn"
      },
      "execution_count": null,
      "outputs": []
    },
    {
      "cell_type": "code",
      "source": [
        "df.head(), df.tail()"
      ],
      "metadata": {
        "colab": {
          "base_uri": "https://localhost:8080/"
        },
        "id": "rDq5zUitqyd6",
        "outputId": "164817e6-1514-4f10-fbdd-52b93b17069a"
      },
      "execution_count": null,
      "outputs": [
        {
          "output_type": "execute_result",
          "data": {
            "text/plain": [
              "(            curah hujan (mm)\n",
              " bulan                       \n",
              " 2017-01-01                90\n",
              " 2017-02-01               117\n",
              " 2017-03-01               201\n",
              " 2017-04-01               146\n",
              " 2017-05-01               270,             curah hujan (mm)\n",
              " bulan                       \n",
              " 2020-08-01                48\n",
              " 2020-09-01               126\n",
              " 2020-10-01               149\n",
              " 2020-11-01               255\n",
              " 2020-12-01               130)"
            ]
          },
          "metadata": {},
          "execution_count": 46
        }
      ]
    },
    {
      "cell_type": "markdown",
      "source": [
        "transformasi data menggunakan scaler function menjadi skala 0 dan 1"
      ],
      "metadata": {
        "id": "t_r8HMR3lYxe"
      }
    },
    {
      "cell_type": "code",
      "source": [
        "scaler.fit(train)\n",
        "scaled_train = scaler.transform(train)\n",
        "scaled_test = scaler.transform(test)"
      ],
      "metadata": {
        "id": "fuPN6Nb8qygQ"
      },
      "execution_count": null,
      "outputs": []
    },
    {
      "cell_type": "code",
      "source": [
        "scaled_train[:10]"
      ],
      "metadata": {
        "colab": {
          "base_uri": "https://localhost:8080/"
        },
        "id": "rffGsWQhqyi0",
        "outputId": "ecf6c905-0fe1-4906-a832-2a250d2591a0"
      },
      "execution_count": null,
      "outputs": [
        {
          "output_type": "execute_result",
          "data": {
            "text/plain": [
              "array([[0.15884477],\n",
              "       [0.20758123],\n",
              "       [0.35920578],\n",
              "       [0.2599278 ],\n",
              "       [0.48375451],\n",
              "       [0.68953069],\n",
              "       [0.05234657],\n",
              "       [0.01444043],\n",
              "       [0.00722022],\n",
              "       [0.00361011]])"
            ]
          },
          "metadata": {},
          "execution_count": 48
        }
      ]
    },
    {
      "cell_type": "markdown",
      "source": [
        "membuat model prediksi, waktu 3 bulan"
      ],
      "metadata": {
        "id": "z9GEQnBow_J2"
      }
    },
    {
      "cell_type": "code",
      "source": [
        "from keras.preprocessing.sequence import TimeseriesGenerator"
      ],
      "metadata": {
        "id": "tM9-c7Kbqyko"
      },
      "execution_count": null,
      "outputs": []
    },
    {
      "cell_type": "code",
      "source": [
        "# mendefinisikan generator\n",
        "n_input = 3\n",
        "n_features = 1\n",
        "generator = TimeseriesGenerator(scaled_train, scaled_train, length = n_input, batch_size = 1)"
      ],
      "metadata": {
        "id": "hJ7YaU6eqypu"
      },
      "execution_count": null,
      "outputs": []
    },
    {
      "cell_type": "code",
      "source": [
        "X,y = generator[0]\n",
        "print(f'Array: \\n{X.flatten()}')\n",
        "print(f'Prediksi y: \\n {y}')"
      ],
      "metadata": {
        "colab": {
          "base_uri": "https://localhost:8080/"
        },
        "id": "TI9b8IJhqysN",
        "outputId": "bca64bdc-6d9d-45bc-fb72-55587b599d2b"
      },
      "execution_count": null,
      "outputs": [
        {
          "output_type": "stream",
          "name": "stdout",
          "text": [
            "Array: \n",
            "[0.15884477 0.20758123 0.35920578]\n",
            "Prediksi y: \n",
            " [[0.2599278]]\n"
          ]
        }
      ]
    },
    {
      "cell_type": "code",
      "source": [
        "X.shape"
      ],
      "metadata": {
        "colab": {
          "base_uri": "https://localhost:8080/"
        },
        "id": "57X56i1UqyuH",
        "outputId": "c803df39-aab8-43a7-e531-d2082649148c"
      },
      "execution_count": null,
      "outputs": [
        {
          "output_type": "execute_result",
          "data": {
            "text/plain": [
              "(1, 3, 1)"
            ]
          },
          "metadata": {},
          "execution_count": 52
        }
      ]
    },
    {
      "cell_type": "code",
      "source": [
        "# kita ulangi prosesnya untuk 12 bulan\n",
        "n_input = 12\n",
        "generator = TimeseriesGenerator(scaled_train, scaled_train, length = n_input, batch_size = 1)"
      ],
      "metadata": {
        "id": "gwjXZr-Xqywo"
      },
      "execution_count": null,
      "outputs": []
    },
    {
      "cell_type": "markdown",
      "source": [
        "import libraries"
      ],
      "metadata": {
        "id": "AYQoc4JKxV1_"
      }
    },
    {
      "cell_type": "code",
      "source": [
        "from keras.models import Sequential\n",
        "from keras.layers import Dense\n",
        "from keras.layers import LSTM\n"
      ],
      "metadata": {
        "id": "TQqMt_uaqyyw"
      },
      "execution_count": null,
      "outputs": []
    },
    {
      "cell_type": "code",
      "source": [
        "# mendefinisikan model\n",
        "model = Sequential()\n",
        "model.add(LSTM(100, activation = 'relu', input_shape = (n_input, n_features)))\n",
        "model.add(Dense(1))\n",
        "model.compile(optimizer = 'adam', loss = 'mse')"
      ],
      "metadata": {
        "id": "pezcAl0sqy1X"
      },
      "execution_count": null,
      "outputs": []
    },
    {
      "cell_type": "markdown",
      "source": [
        "arsitektur dari model"
      ],
      "metadata": {
        "id": "EhGIyc5zxwGk"
      }
    },
    {
      "cell_type": "code",
      "source": [
        "model.summary()"
      ],
      "metadata": {
        "colab": {
          "base_uri": "https://localhost:8080/"
        },
        "id": "VmuD2RqXqy4L",
        "outputId": "f0eb7ad7-24bb-43ca-b4dc-33f1753265d0"
      },
      "execution_count": null,
      "outputs": [
        {
          "output_type": "stream",
          "name": "stdout",
          "text": [
            "Model: \"sequential_1\"\n",
            "_________________________________________________________________\n",
            " Layer (type)                Output Shape              Param #   \n",
            "=================================================================\n",
            " lstm_1 (LSTM)               (None, 100)               40800     \n",
            "                                                                 \n",
            " dense_1 (Dense)             (None, 1)                 101       \n",
            "                                                                 \n",
            "=================================================================\n",
            "Total params: 40,901\n",
            "Trainable params: 40,901\n",
            "Non-trainable params: 0\n",
            "_________________________________________________________________\n"
          ]
        }
      ]
    },
    {
      "cell_type": "code",
      "source": [
        "# fit model\n",
        "model.fit(generator,epochs = 50)"
      ],
      "metadata": {
        "colab": {
          "base_uri": "https://localhost:8080/"
        },
        "id": "DX4lgNUBqy6R",
        "outputId": "593ed176-cc4d-41dd-c7ee-0164763e743a"
      },
      "execution_count": null,
      "outputs": [
        {
          "output_type": "stream",
          "name": "stdout",
          "text": [
            "Epoch 1/50\n",
            "24/24 [==============================] - 2s 8ms/step - loss: 0.1365\n",
            "Epoch 2/50\n",
            "24/24 [==============================] - 0s 10ms/step - loss: 0.0848\n",
            "Epoch 3/50\n",
            "24/24 [==============================] - 0s 9ms/step - loss: 0.0864\n",
            "Epoch 4/50\n",
            "24/24 [==============================] - 0s 9ms/step - loss: 0.0911\n",
            "Epoch 5/50\n",
            "24/24 [==============================] - 0s 8ms/step - loss: 0.0818\n",
            "Epoch 6/50\n",
            "24/24 [==============================] - 0s 8ms/step - loss: 0.0813\n",
            "Epoch 7/50\n",
            "24/24 [==============================] - 0s 10ms/step - loss: 0.0842\n",
            "Epoch 8/50\n",
            "24/24 [==============================] - 0s 8ms/step - loss: 0.0831\n",
            "Epoch 9/50\n",
            "24/24 [==============================] - 0s 8ms/step - loss: 0.0764\n",
            "Epoch 10/50\n",
            "24/24 [==============================] - 0s 8ms/step - loss: 0.0752\n",
            "Epoch 11/50\n",
            "24/24 [==============================] - 0s 8ms/step - loss: 0.0741\n",
            "Epoch 12/50\n",
            "24/24 [==============================] - 0s 9ms/step - loss: 0.0728\n",
            "Epoch 13/50\n",
            "24/24 [==============================] - 0s 8ms/step - loss: 0.0710\n",
            "Epoch 14/50\n",
            "24/24 [==============================] - 0s 8ms/step - loss: 0.0777\n",
            "Epoch 15/50\n",
            "24/24 [==============================] - 0s 8ms/step - loss: 0.0778\n",
            "Epoch 16/50\n",
            "24/24 [==============================] - 0s 8ms/step - loss: 0.0689\n",
            "Epoch 17/50\n",
            "24/24 [==============================] - 0s 9ms/step - loss: 0.0603\n",
            "Epoch 18/50\n",
            "24/24 [==============================] - 0s 8ms/step - loss: 0.0766\n",
            "Epoch 19/50\n",
            "24/24 [==============================] - 0s 8ms/step - loss: 0.0660\n",
            "Epoch 20/50\n",
            "24/24 [==============================] - 0s 7ms/step - loss: 0.0602\n",
            "Epoch 21/50\n",
            "24/24 [==============================] - 0s 8ms/step - loss: 0.0569\n",
            "Epoch 22/50\n",
            "24/24 [==============================] - 0s 8ms/step - loss: 0.0614\n",
            "Epoch 23/50\n",
            "24/24 [==============================] - 0s 8ms/step - loss: 0.0573\n",
            "Epoch 24/50\n",
            "24/24 [==============================] - 0s 8ms/step - loss: 0.0560\n",
            "Epoch 25/50\n",
            "24/24 [==============================] - 0s 8ms/step - loss: 0.0544\n",
            "Epoch 26/50\n",
            "24/24 [==============================] - 0s 8ms/step - loss: 0.0466\n",
            "Epoch 27/50\n",
            "24/24 [==============================] - 0s 8ms/step - loss: 0.0661\n",
            "Epoch 28/50\n",
            "24/24 [==============================] - 0s 8ms/step - loss: 0.0537\n",
            "Epoch 29/50\n",
            "24/24 [==============================] - 0s 8ms/step - loss: 0.0568\n",
            "Epoch 30/50\n",
            "24/24 [==============================] - 0s 8ms/step - loss: 0.0472\n",
            "Epoch 31/50\n",
            "24/24 [==============================] - 0s 8ms/step - loss: 0.0470\n",
            "Epoch 32/50\n",
            "24/24 [==============================] - 0s 8ms/step - loss: 0.0516\n",
            "Epoch 33/50\n",
            "24/24 [==============================] - 0s 9ms/step - loss: 0.0502\n",
            "Epoch 34/50\n",
            "24/24 [==============================] - 0s 8ms/step - loss: 0.0449\n",
            "Epoch 35/50\n",
            "24/24 [==============================] - 0s 8ms/step - loss: 0.0449\n",
            "Epoch 36/50\n",
            "24/24 [==============================] - 0s 8ms/step - loss: 0.0480\n",
            "Epoch 37/50\n",
            "24/24 [==============================] - 0s 8ms/step - loss: 0.0457\n",
            "Epoch 38/50\n",
            "24/24 [==============================] - 0s 8ms/step - loss: 0.0526\n",
            "Epoch 39/50\n",
            "24/24 [==============================] - 0s 8ms/step - loss: 0.0451\n",
            "Epoch 40/50\n",
            "24/24 [==============================] - 0s 9ms/step - loss: 0.0459\n",
            "Epoch 41/50\n",
            "24/24 [==============================] - 0s 8ms/step - loss: 0.0462\n",
            "Epoch 42/50\n",
            "24/24 [==============================] - 0s 8ms/step - loss: 0.0506\n",
            "Epoch 43/50\n",
            "24/24 [==============================] - 0s 8ms/step - loss: 0.0495\n",
            "Epoch 44/50\n",
            "24/24 [==============================] - 0s 8ms/step - loss: 0.0478\n",
            "Epoch 45/50\n",
            "24/24 [==============================] - 0s 8ms/step - loss: 0.0519\n",
            "Epoch 46/50\n",
            "24/24 [==============================] - 0s 10ms/step - loss: 0.0418\n",
            "Epoch 47/50\n",
            "24/24 [==============================] - 0s 8ms/step - loss: 0.0426\n",
            "Epoch 48/50\n",
            "24/24 [==============================] - 0s 9ms/step - loss: 0.0412\n",
            "Epoch 49/50\n",
            "24/24 [==============================] - 0s 8ms/step - loss: 0.0409\n",
            "Epoch 50/50\n",
            "24/24 [==============================] - 0s 8ms/step - loss: 0.0403\n"
          ]
        },
        {
          "output_type": "execute_result",
          "data": {
            "text/plain": [
              "<keras.callbacks.History at 0x7f3b52857c90>"
            ]
          },
          "metadata": {},
          "execution_count": 57
        }
      ]
    },
    {
      "cell_type": "code",
      "source": [
        "loss_per_epoch = model.history.history['loss']\n",
        "plt.plot(range(len(loss_per_epoch)),loss_per_epoch)"
      ],
      "metadata": {
        "colab": {
          "base_uri": "https://localhost:8080/",
          "height": 284
        },
        "id": "_e3PpmD_qy8e",
        "outputId": "52f85afe-38d8-4328-b268-8ff187dea3ff"
      },
      "execution_count": null,
      "outputs": [
        {
          "output_type": "execute_result",
          "data": {
            "text/plain": [
              "[<matplotlib.lines.Line2D at 0x7f3b51fa2510>]"
            ]
          },
          "metadata": {},
          "execution_count": 58
        },
        {
          "output_type": "display_data",
          "data": {
            "text/plain": [
              "<Figure size 432x288 with 1 Axes>"
            ],
            "image/png": "[encoded data removed]"
          },
          "metadata": {
            "needs_background": "light"
          }
        }
      ]
    },
    {
      "cell_type": "markdown",
      "source": [
        "mengambil 12 bulan terakhir training set untuk nilai pertama testing set"
      ],
      "metadata": {
        "id": "CvNL8zCyypb0"
      }
    },
    {
      "cell_type": "code",
      "source": [
        "last_train_batch = scaled_train[-12:]"
      ],
      "metadata": {
        "id": "PiF_qhcgqzAB"
      },
      "execution_count": null,
      "outputs": []
    },
    {
      "cell_type": "code",
      "source": [
        "last_train_batch = last_train_batch.reshape((1, n_input, n_features))"
      ],
      "metadata": {
        "id": "hLG_XvUDs9Wc"
      },
      "execution_count": null,
      "outputs": []
    },
    {
      "cell_type": "code",
      "source": [
        "model.predict(last_train_batch)"
      ],
      "metadata": {
        "colab": {
          "base_uri": "https://localhost:8080/"
        },
        "id": "KzDbHI8ztAVV",
        "outputId": "b887976c-d939-46f9-9d23-9f792ff20655"
      },
      "execution_count": null,
      "outputs": [
        {
          "output_type": "execute_result",
          "data": {
            "text/plain": [
              "array([[0.5451812]], dtype=float32)"
            ]
          },
          "metadata": {},
          "execution_count": 61
        }
      ]
    },
    {
      "cell_type": "code",
      "source": [
        "scaled_test[0]"
      ],
      "metadata": {
        "colab": {
          "base_uri": "https://localhost:8080/"
        },
        "id": "fLNi43sJtE5T",
        "outputId": "0eba4440-f1ad-4c85-cab6-302121399e8c"
      },
      "execution_count": null,
      "outputs": [
        {
          "output_type": "execute_result",
          "data": {
            "text/plain": [
              "array([0.36281588])"
            ]
          },
          "metadata": {},
          "execution_count": 62
        }
      ]
    },
    {
      "cell_type": "code",
      "source": [
        "test_predictions = []\n",
        "\n",
        "first_eval_batch = scaled_train[-n_input:]\n",
        "current_batch = first_eval_batch.reshape((1, n_input, n_features))\n",
        "\n",
        "for i in range(len(test)):\n",
        "    \n",
        "    # nilai prediksi untuk kelompok pertama \n",
        "    current_pred = model.predict(current_batch)[0]\n",
        "    \n",
        "    # menambahkan hasil prediksi ke array\n",
        "    test_predictions.append(current_pred) \n",
        "    \n",
        "    # menggunakan hasil prediksi untuk mengubah kelompok pertama dan menghapus nilai pertama\n",
        "    current_batch = np.append(current_batch[:,1:,:],[[current_pred]],axis = 1)"
      ],
      "metadata": {
        "id": "M9dkWP-1tKp5"
      },
      "execution_count": null,
      "outputs": []
    },
    {
      "cell_type": "code",
      "source": [
        "test_predictions"
      ],
      "metadata": {
        "colab": {
          "base_uri": "https://localhost:8080/"
        },
        "id": "DVsopL7ZtO25",
        "outputId": "5e038619-aea9-4982-d24b-f23827354ac4"
      },
      "execution_count": null,
      "outputs": [
        {
          "output_type": "execute_result",
          "data": {
            "text/plain": [
              "[array([0.5451812], dtype=float32),\n",
              " array([0.62217295], dtype=float32),\n",
              " array([0.56241477], dtype=float32),\n",
              " array([0.41198784], dtype=float32),\n",
              " array([0.328232], dtype=float32),\n",
              " array([0.34108508], dtype=float32),\n",
              " array([0.35845232], dtype=float32),\n",
              " array([0.40953344], dtype=float32),\n",
              " array([0.46192282], dtype=float32),\n",
              " array([0.47776264], dtype=float32),\n",
              " array([0.44917023], dtype=float32),\n",
              " array([0.4177397], dtype=float32)]"
            ]
          },
          "metadata": {},
          "execution_count": 64
        }
      ]
    },
    {
      "cell_type": "code",
      "source": [
        "test.head()"
      ],
      "metadata": {
        "colab": {
          "base_uri": "https://localhost:8080/",
          "height": 238
        },
        "id": "_6pXaqlGtg93",
        "outputId": "5c113668-aefc-4358-bf2e-35dc84b01d98"
      },
      "execution_count": null,
      "outputs": [
        {
          "output_type": "execute_result",
          "data": {
            "text/plain": [
              "            curah hujan (mm)  Predictions\n",
              "bulan                                    \n",
              "2020-01-01               203   304.030393\n",
              "2020-02-01               154   346.683815\n",
              "2020-03-01               178   313.577780\n",
              "2020-04-01               275   230.241264\n",
              "2020-05-01               596   183.840523"
            ],
            "text/html": [
              "\n",
              "  <div id=\"df-892a6521-d123-4211-bd36-8606481a8115\">\n",
              "    <div class=\"colab-df-container\">\n",
              "      <div>\n",
              "<style scoped>\n",
              "    .dataframe tbody tr th:only-of-type {\n",
              "        vertical-align: middle;\n",
              "    }\n",
              "\n",
              "    .dataframe tbody tr th {\n",
              "        vertical-align: top;\n",
              "    }\n",
              "\n",
              "    .dataframe thead th {\n",
              "        text-align: right;\n",
              "    }\n",
              "</style>\n",
              "<table border=\"1\" class=\"dataframe\">\n",
              "  <thead>\n",
              "    <tr style=\"text-align: right;\">\n",
              "      <th></th>\n",
              "      <th>curah hujan (mm)</th>\n",
              "      <th>Predictions</th>\n",
              "    </tr>\n",
              "    <tr>\n",
              "      <th>bulan</th>\n",
              "      <th></th>\n",
              "      <th></th>\n",
              "    </tr>\n",
              "  </thead>\n",
              "  <tbody>\n",
              "    <tr>\n",
              "      <th>2020-01-01</th>\n",
              "      <td>203</td>\n",
              "      <td>304.030393</td>\n",
              "    </tr>\n",
              "    <tr>\n",
              "      <th>2020-02-01</th>\n",
              "      <td>154</td>\n",
              "      <td>346.683815</td>\n",
              "    </tr>\n",
              "    <tr>\n",
              "      <th>2020-03-01</th>\n",
              "      <td>178</td>\n",
              "      <td>313.577780</td>\n",
              "    </tr>\n",
              "    <tr>\n",
              "      <th>2020-04-01</th>\n",
              "      <td>275</td>\n",
              "      <td>230.241264</td>\n",
              "    </tr>\n",
              "    <tr>\n",
              "      <th>2020-05-01</th>\n",
              "      <td>596</td>\n",
              "      <td>183.840523</td>\n",
              "    </tr>\n",
              "  </tbody>\n",
              "</table>\n",
              "</div>\n",
              "      <button class=\"colab-df-convert\" onclick=\"convertToInteractive('df-892a6521-d123-4211-bd36-8606481a8115')\"\n",
              "              title=\"Convert this dataframe to an interactive table.\"\n",
              "              style=\"display:none;\">\n",
              "        \n",
              "  <svg xmlns=\"http://www.w3.org/2000/svg\" height=\"24px\"viewBox=\"0 0 24 24\"\n",
              "       width=\"24px\">\n",
              "    <path d=\"M0 0h24v24H0V0z\" fill=\"none\"/>\n",
              "    <path d=\"M18.56 5.44l.94 2.06.94-2.06 2.06-.94-2.06-.94-.94-2.06-.94 2.06-2.06.94zm-11 1L8.5 8.5l.94-2.06 2.06-.94-2.06-.94L8.5 2.5l-.94 2.06-2.06.94zm10 10l.94 2.06.94-2.06 2.06-.94-2.06-.94-.94-2.06-.94 2.06-2.06.94z\"/><path d=\"M17.41 7.96l-1.37-1.37c-.4-.4-.92-.59-1.43-.59-.52 0-1.04.2-1.43.59L10.3 9.45l-7.72 7.72c-.78.78-.78 2.05 0 2.83L4 21.41c.39.39.9.59 1.41.59.51 0 1.02-.2 1.41-.59l7.78-7.78 2.81-2.81c.8-.78.8-2.07 0-2.86zM5.41 20L4 18.59l7.72-7.72 1.47 1.35L5.41 20z\"/>\n",
              "  </svg>\n",
              "      </button>\n",
              "      \n",
              "  <style>\n",
              "    .colab-df-container {\n",
              "      display:flex;\n",
              "      flex-wrap:wrap;\n",
              "      gap: 12px;\n",
              "    }\n",
              "\n",
              "    .colab-df-convert {\n",
              "      background-color: #E8F0FE;\n",
              "      border: none;\n",
              "      border-radius: 50%;\n",
              "      cursor: pointer;\n",
              "      display: none;\n",
              "      fill: #1967D2;\n",
              "      height: 32px;\n",
              "      padding: 0 0 0 0;\n",
              "      width: 32px;\n",
              "    }\n",
              "\n",
              "    .colab-df-convert:hover {\n",
              "      background-color: #E2EBFA;\n",
              "      box-shadow: 0px 1px 2px rgba(60, 64, 67, 0.3), 0px 1px 3px 1px rgba(60, 64, 67, 0.15);\n",
              "      fill: #174EA6;\n",
              "    }\n",
              "\n",
              "    [theme=dark] .colab-df-convert {\n",
              "      background-color: #3B4455;\n",
              "      fill: #D2E3FC;\n",
              "    }\n",
              "\n",
              "    [theme=dark] .colab-df-convert:hover {\n",
              "      background-color: #434B5C;\n",
              "      box-shadow: 0px 1px 3px 1px rgba(0, 0, 0, 0.15);\n",
              "      filter: drop-shadow(0px 1px 2px rgba(0, 0, 0, 0.3));\n",
              "      fill: #FFFFFF;\n",
              "    }\n",
              "  </style>\n",
              "\n",
              "      <script>\n",
              "        const buttonEl =\n",
              "          document.querySelector('#df-892a6521-d123-4211-bd36-8606481a8115 button.colab-df-convert');\n",
              "        buttonEl.style.display =\n",
              "          google.colab.kernel.accessAllowed ? 'block' : 'none';\n",
              "\n",
              "        async function convertToInteractive(key) {\n",
              "          const element = document.querySelector('#df-892a6521-d123-4211-bd36-8606481a8115');\n",
              "          const dataTable =\n",
              "            await google.colab.kernel.invokeFunction('convertToInteractive',\n",
              "                                                     [key], {});\n",
              "          if (!dataTable) return;\n",
              "\n",
              "          const docLinkHtml = 'Like what you see? Visit the ' +\n",
              "            '<a target=\"_blank\" href=https://colab.research.google.com/notebooks/data_table.ipynb>data table notebook</a>'\n",
              "            + ' to learn more about interactive tables.';\n",
              "          element.innerHTML = '';\n",
              "          dataTable['output_type'] = 'display_data';\n",
              "          await google.colab.output.renderOutput(dataTable, element);\n",
              "          const docLink = document.createElement('div');\n",
              "          docLink.innerHTML = docLinkHtml;\n",
              "          element.appendChild(docLink);\n",
              "        }\n",
              "      </script>\n",
              "    </div>\n",
              "  </div>\n",
              "  "
            ]
          },
          "metadata": {},
          "execution_count": 70
        }
      ]
    },
    {
      "cell_type": "code",
      "source": [
        "true_predictions = scaler.inverse_transform(test_predictions)"
      ],
      "metadata": {
        "id": "57bZd4eNthAB"
      },
      "execution_count": null,
      "outputs": []
    },
    {
      "cell_type": "code",
      "source": [
        "test['Predictions'] = true_predictions"
      ],
      "metadata": {
        "colab": {
          "base_uri": "https://localhost:8080/"
        },
        "id": "9T9bS-iqthCh",
        "outputId": "1c0ac469-5328-463d-ee0c-9bb933194bd8"
      },
      "execution_count": null,
      "outputs": [
        {
          "output_type": "stream",
          "name": "stderr",
          "text": [
            "/usr/local/lib/python3.7/dist-packages/ipykernel_launcher.py:1: SettingWithCopyWarning: \n",
            "A value is trying to be set on a copy of a slice from a DataFrame.\n",
            "Try using .loc[row_indexer,col_indexer] = value instead\n",
            "\n",
            "See the caveats in the documentation: https://pandas.pydata.org/pandas-docs/stable/user_guide/indexing.html#returning-a-view-versus-a-copy\n",
            "  \"\"\"Entry point for launching an IPython kernel.\n"
          ]
        }
      ]
    },
    {
      "cell_type": "code",
      "source": [
        "test.plot(figsize = (14, 5))"
      ],
      "metadata": {
        "colab": {
          "base_uri": "https://localhost:8080/",
          "height": 362
        },
        "id": "NsCgEhhuthGI",
        "outputId": "a5c9344e-682d-4c15-e473-01d42c9b6449"
      },
      "execution_count": null,
      "outputs": [
        {
          "output_type": "execute_result",
          "data": {
            "text/plain": [
              "<matplotlib.axes._subplots.AxesSubplot at 0x7f3b529b1790>"
            ]
          },
          "metadata": {},
          "execution_count": 68
        },
        {
          "output_type": "display_data",
          "data": {
            "text/plain": [
              "<Figure size 1008x360 with 1 Axes>"
            ],
            "image/png": "[encoded data removed]"
          },
          "metadata": {
            "needs_background": "light"
          }
        }
      ]
    },
    {
      "cell_type": "markdown",
      "source": [
        "mengecek besar nilai error dari model"
      ],
      "metadata": {
        "id": "xDzQfCY5zRit"
      }
    },
    {
      "cell_type": "code",
      "source": [
        "from sklearn.metrics import mean_squared_error\n",
        "from math import sqrt\n",
        "rmse = sqrt(mean_squared_error(test['curah hujan (mm)'],test['Predictions']))\n",
        "print(rmse)"
      ],
      "metadata": {
        "colab": {
          "base_uri": "https://localhost:8080/"
        },
        "id": "3W2Txl4itPI3",
        "outputId": "d85c85e1-97b4-4d51-c618-27a96aebf5d7"
      },
      "execution_count": null,
      "outputs": [
        {
          "output_type": "stream",
          "name": "stdout",
          "text": [
            "204.86598042876733\n"
          ]
        }
      ]
    }
  ]
}